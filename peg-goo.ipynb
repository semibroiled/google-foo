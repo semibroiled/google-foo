{
 "cells": [
  {
   "cell_type": "markdown",
   "metadata": {
    "slideshow": {
     "slide_type": "notes"
    },
    "tags": []
   },
   "source": [
    "Input:\n",
    "solution.solution([4, 30, 50])\n",
    "Output:\n",
    "    12,1\n",
    "\n",
    "Input:\n",
    "solution.solution([4, 17, 50])\n",
    "Output:\n",
    "    -1,-1"
   ]
  },
  {
   "cell_type": "markdown",
   "metadata": {},
   "source": [
    "As Commander Lambda's personal assistant, you've been assigned the task of configuring the LAMBCHOP doomsday device's axial orientation gears. It should be pretty simple -- just add gears to create the appropriate rotation ratio. But the problem is, due to the layout of the LAMBCHOP and the complicated system of beams and pipes supporting it, the pegs that will support the gears are fixed in place.\n",
    "\n",
    "The LAMBCHOP's engineers have given you lists identifying the placement of groups of pegs along various support beams. You need to place a gear on each peg (otherwise the gears will collide with unoccupied pegs). The engineers have plenty of gears in all different sizes stocked up, so you can choose gears of any size, from a radius of 1 on up. Your goal is to build a system where the last gear rotates at twice the rate (in revolutions per minute, or rpm) of the first gear, no matter the direction. Each gear (except the last) touches and turns the gear on the next peg to the right.\n",
    "\n",
    "Given a list of distinct positive integers named pegs representing the location of each peg along the support beam, write a function solution(pegs) which, if there is a solution, returns a list of two positive integers a and b representing the numerator and denominator of the first gear's radius in its simplest form in order to achieve the goal above, such that radius = a/b. The ratio a/b should be greater than or equal to 1. Not all support configurations will necessarily be capable of creating the proper rotation ratio, so if the task is impossible, the function solution(pegs) should return the list [-1, -1].\n",
    "\n",
    "For example, if the pegs are placed at [4, 30, 50], then the first gear could have a radius of 12, the second gear could have a radius of 14, and the last one a radius of 6. Thus, the last gear would rotate twice as fast as the first one. In this case, pegs would be [4, 30, 50] and solution(pegs) should return [12, 1].\n",
    "\n",
    "The list pegs will be given sorted in ascending order and will contain at least 2 and no more than 20 distinct positive integers, all between 1 and 10000 inclusive."
   ]
  },
  {
   "cell_type": "code",
   "execution_count": 5,
   "metadata": {},
   "outputs": [],
   "source": [
    "def solution(pegs):\n",
    "\n",
    "    #This is essentially a Linear Equation, a Numerical problem\n",
    "    #Since availability of gear radius goes upto inf, a brute force approach doesn't really make sense\n",
    "    #would be fun to try for limited gear availability tho\n",
    "    # idea for alt code later\n",
    "    \n",
    "    #We need to have at least 2 gears to have a speed relation. Cancel out fastest and most obvious non starter\n",
    "    if len(pegs)<2:\n",
    "        return [-1,-1]\n",
    "    \n",
    "    \n",
    "    \n",
    "    \n",
    "    \n",
    "\n",
    "    \n",
    "\n"
   ]
  },
  {
   "cell_type": "code",
   "execution_count": 6,
   "metadata": {},
   "outputs": [],
   "source": [
    "def solution(peg_list):\n",
    "\n",
    "    #Calculating distance from peg position, and separating into cases with even and odd pegs\n",
    "    #We get a sequence of linear pattern\n",
    "    #odd pegs are +tiv, even pegs are -tiv, multiplioed by 2, exluding 0th peg, which is outside parameter bracket subtracted from this\n",
    "    #last peg is always outside eq as added or subtractefd for even or odd number of pegs\n",
    "\n",
    "    num_pegs = len(peg_list) # number of pegs\n",
    "    no_ans = [-1,-1] #return this in case there is no answer\n",
    "    ans = None \n",
    "\n",
    "    #we need at least 2 gears for a valid calculation\n",
    "    if num_pegs < 3:\n",
    "        return no_ans    \n",
    "\n",
    "    #in case of even number of pegs\n",
    "    if  num_pegs% 2 == 0:\n",
    "        seq_lin_eq_even = 2*(sum(peg_list[1:num_pegs-1:2]) - sum(peg_list[2::2])) - peg_list[0] + peg_list[-1]\n",
    "\n",
    "        #for all 3 cases...with seq = 3*last gear radius\n",
    "        if seq_lin_eq_even/3 < 1:\n",
    "            return no_ans #gear radius starts from 1\n",
    "        if seq_lin_eq_even % 3 == 0:\n",
    "            ans = [seq_lin_eq_even/3, 1] # simplified if divisible\n",
    "        else:\n",
    "            ans = [seq_lin_eq_even, 3] #already in simplified form\n",
    "    else:\n",
    "        seq_lin_eq_odd = 2*(sum(peg_list[1::2]) - sum(peg_list[2:num_pegs-1:2])) - peg_list[0] - peg_list[-1]\n",
    "        \n",
    "        #for all 3 cases...with seq = last gear radius\n",
    "        if seq_lin_eq_odd < 1:\n",
    "            return no_ans\n",
    "        else:\n",
    "            ans = [seq_lin_eq_odd, 1]\n",
    "            \n",
    "    r_n = ans[0]/ans[1] #r=a/b\n",
    "    #check that radius does not exceed distance between pegs at any point bzw. that succesive inclusion of positve radius is possible\n",
    "    # ie check for physical viability\n",
    "    for i in range(len(peg_list)-1):\n",
    "        r_n = peg_list[i+1]-peg_list[i] - r_n\n",
    "        if r_n < 1:\n",
    "            return no_ans\n",
    "    return ans"
   ]
  },
  {
   "cell_type": "code",
   "execution_count": 8,
   "metadata": {},
   "outputs": [
    {
     "data": {
      "text/plain": [
       "[-1, -1]"
      ]
     },
     "execution_count": 8,
     "metadata": {},
     "output_type": "execute_result"
    }
   ],
   "source": [
    "solution([4,30,50])"
   ]
  },
  {
   "cell_type": "code",
   "execution_count": null,
   "metadata": {},
   "outputs": [],
   "source": []
  }
 ],
 "metadata": {
  "kernelspec": {
   "display_name": "Python 3",
   "language": "python",
   "name": "python3"
  },
  "language_info": {
   "codemirror_mode": {
    "name": "ipython",
    "version": 3
   },
   "file_extension": ".py",
   "mimetype": "text/x-python",
   "name": "python",
   "nbconvert_exporter": "python",
   "pygments_lexer": "ipython3",
   "version": "3.9.6"
  },
  "orig_nbformat": 4,
  "vscode": {
   "interpreter": {
    "hash": "31f2aee4e71d21fbe5cf8b01ff0e069b9275f58929596ceb00d14d90e3e16cd6"
   }
  }
 },
 "nbformat": 4,
 "nbformat_minor": 2
}
