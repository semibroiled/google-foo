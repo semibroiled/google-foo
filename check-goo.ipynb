{
 "cells": [
  {
   "cell_type": "code",
   "execution_count": 7,
   "metadata": {},
   "outputs": [],
   "source": [
    "def solution(l, t):\n",
    "\n",
    "    for i in range(len(l)):\n",
    "        # Iterate over all available start index\n",
    "\n",
    "        sum = 0 #Empty variable sum to keep track \n",
    "\n",
    "        for j in range(i, len(l)):\n",
    "            # Iterate upto maximum length of array\n",
    "            sum += l[j] #Add the number in j-th index to sum\n",
    "            if sum == t:\n",
    "                # When sum equals t, output start and end index in list\n",
    "                return [i, j]\n",
    "            if sum>t:\n",
    "                pass\n",
    "            \n",
    "    # Return this when criteria not fulfilled\n",
    "    return [-1, -1]\n",
    "\n",
    "    #PRACTICE DIFFERENT WAY TO INTERPRET THIS PROBLEM! RAVIS PROBLEM FOR EXAMPLE!"
   ]
  },
  {
   "cell_type": "code",
   "execution_count": 8,
   "metadata": {},
   "outputs": [
    {
     "data": {
      "text/plain": [
       "[-1, -1]"
      ]
     },
     "execution_count": 8,
     "metadata": {},
     "output_type": "execute_result"
    }
   ],
   "source": [
    "solution([1, 2, 3, 4], 15)\n",
    "#Output:\n",
    "#    -1,-1"
   ]
  },
  {
   "cell_type": "code",
   "execution_count": 9,
   "metadata": {},
   "outputs": [
    {
     "data": {
      "text/plain": [
       "[2, 3]"
      ]
     },
     "execution_count": 9,
     "metadata": {},
     "output_type": "execute_result"
    }
   ],
   "source": [
    "solution([4, 3, 10, 2, 8], 12)\n",
    "#Output:\n",
    "#    2,3"
   ]
  },
  {
   "cell_type": "code",
   "execution_count": null,
   "metadata": {},
   "outputs": [],
   "source": []
  }
 ],
 "metadata": {
  "kernelspec": {
   "display_name": "Python 3",
   "language": "python",
   "name": "python3"
  },
  "language_info": {
   "codemirror_mode": {
    "name": "ipython",
    "version": 3
   },
   "file_extension": ".py",
   "mimetype": "text/x-python",
   "name": "python",
   "nbconvert_exporter": "python",
   "pygments_lexer": "ipython3",
   "version": "3.9.6"
  },
  "orig_nbformat": 4,
  "vscode": {
   "interpreter": {
    "hash": "31f2aee4e71d21fbe5cf8b01ff0e069b9275f58929596ceb00d14d90e3e16cd6"
   }
  }
 },
 "nbformat": 4,
 "nbformat_minor": 2
}
